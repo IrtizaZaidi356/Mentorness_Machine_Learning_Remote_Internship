{
 "cells": [
  {
   "cell_type": "markdown",
   "metadata": {},
   "source": [
    "# **Mentorness | Machine Learning | Remote Internship**\n",
    "\n",
    "---\n",
    "## **Task No# 02:- Disease Prediction:**\n",
    "\n",
    "### **Define the Problem Statement:**\n",
    "   - Predictive Modeling for Disease Diagnosis\n",
    "\n",
    "### **Objective:**\n",
    "   - The objective of this project is to develop a predictive model that can accurately classify individuals into diseased or non-diseased categories based on their health attributes. By leveraging machine learning algorithms, we aim to create a reliable tool that healthcare providers can use to assist in disease diagnosis and prognosis."
   ]
  },
  {
   "cell_type": "markdown",
   "metadata": {},
   "source": [
    "#### **Step No# 01:- Import Libraries:**"
   ]
  },
  {
   "cell_type": "code",
   "execution_count": 1,
   "metadata": {},
   "outputs": [],
   "source": [
    "# Importing Libraries\n",
    "\n",
    "import pandas as pd\n",
    "import numpy as np\n",
    "import matplotlib.pyplot as plt\n",
    "import seaborn as sns\n",
    "import plotly.express as px\n",
    "from sklearn.model_selection import train_test_split, GridSearchCV\n",
    "from sklearn.preprocessing import StandardScaler\n",
    "from sklearn.ensemble import RandomForestClassifier\n",
    "from sklearn.metrics import accuracy_score, precision_score, recall_score, f1_score"
   ]
  },
  {
   "cell_type": "code",
   "execution_count": 2,
   "metadata": {},
   "outputs": [],
   "source": [
    "# set options to be maximum for rows and columns\n",
    "pd.set_option('display.max_columns', None)\n",
    "pd.set_option('display.max_rows', None)\n",
    "# hide all warnings\n",
    "import warnings\n",
    "warnings.filterwarnings('ignore') "
   ]
  },
  {
   "cell_type": "markdown",
   "metadata": {},
   "source": [
    "#### **Step No# 02:- Load Data:**"
   ]
  },
  {
   "cell_type": "code",
   "execution_count": 3,
   "metadata": {},
   "outputs": [],
   "source": [
    "# Load the training and test datasets\n",
    "train_data = pd.read_csv('train_data.csv')\n",
    "test_data = pd.read_csv('test_data.csv')"
   ]
  },
  {
   "cell_type": "markdown",
   "metadata": {},
   "source": [
    "#### **Step No# 03:- Data Preprocessing:**"
   ]
  },
  {
   "cell_type": "code",
   "execution_count": 4,
   "metadata": {},
   "outputs": [
    {
     "data": {
      "text/html": [
       "<div>\n",
       "<style scoped>\n",
       "    .dataframe tbody tr th:only-of-type {\n",
       "        vertical-align: middle;\n",
       "    }\n",
       "\n",
       "    .dataframe tbody tr th {\n",
       "        vertical-align: top;\n",
       "    }\n",
       "\n",
       "    .dataframe thead th {\n",
       "        text-align: right;\n",
       "    }\n",
       "</style>\n",
       "<table border=\"1\" class=\"dataframe\">\n",
       "  <thead>\n",
       "    <tr style=\"text-align: right;\">\n",
       "      <th></th>\n",
       "      <th>Glucose</th>\n",
       "      <th>Cholesterol</th>\n",
       "      <th>Hemoglobin</th>\n",
       "      <th>Platelets</th>\n",
       "      <th>White Blood Cells</th>\n",
       "      <th>Red Blood Cells</th>\n",
       "      <th>Hematocrit</th>\n",
       "      <th>Mean Corpuscular Volume</th>\n",
       "      <th>Mean Corpuscular Hemoglobin</th>\n",
       "      <th>Mean Corpuscular Hemoglobin Concentration</th>\n",
       "      <th>Insulin</th>\n",
       "      <th>BMI</th>\n",
       "      <th>Systolic Blood Pressure</th>\n",
       "      <th>Diastolic Blood Pressure</th>\n",
       "      <th>Triglycerides</th>\n",
       "      <th>HbA1c</th>\n",
       "      <th>LDL Cholesterol</th>\n",
       "      <th>HDL Cholesterol</th>\n",
       "      <th>ALT</th>\n",
       "      <th>AST</th>\n",
       "      <th>Heart Rate</th>\n",
       "      <th>Creatinine</th>\n",
       "      <th>Troponin</th>\n",
       "      <th>C-reactive Protein</th>\n",
       "      <th>Disease</th>\n",
       "    </tr>\n",
       "  </thead>\n",
       "  <tbody>\n",
       "    <tr>\n",
       "      <th>0</th>\n",
       "      <td>0.739597</td>\n",
       "      <td>0.650198</td>\n",
       "      <td>0.713631</td>\n",
       "      <td>0.868491</td>\n",
       "      <td>0.687433</td>\n",
       "      <td>0.529895</td>\n",
       "      <td>0.290006</td>\n",
       "      <td>0.631045</td>\n",
       "      <td>0.001328</td>\n",
       "      <td>0.795829</td>\n",
       "      <td>0.034129</td>\n",
       "      <td>0.071774</td>\n",
       "      <td>0.185596</td>\n",
       "      <td>0.071455</td>\n",
       "      <td>0.653472</td>\n",
       "      <td>0.502665</td>\n",
       "      <td>0.215560</td>\n",
       "      <td>0.512941</td>\n",
       "      <td>0.064187</td>\n",
       "      <td>0.610827</td>\n",
       "      <td>0.939485</td>\n",
       "      <td>0.095512</td>\n",
       "      <td>0.465957</td>\n",
       "      <td>0.769230</td>\n",
       "      <td>Healthy</td>\n",
       "    </tr>\n",
       "    <tr>\n",
       "      <th>1</th>\n",
       "      <td>0.121786</td>\n",
       "      <td>0.023058</td>\n",
       "      <td>0.944893</td>\n",
       "      <td>0.905372</td>\n",
       "      <td>0.507711</td>\n",
       "      <td>0.403033</td>\n",
       "      <td>0.164216</td>\n",
       "      <td>0.307553</td>\n",
       "      <td>0.207938</td>\n",
       "      <td>0.505562</td>\n",
       "      <td>0.571162</td>\n",
       "      <td>0.839271</td>\n",
       "      <td>0.580903</td>\n",
       "      <td>0.556037</td>\n",
       "      <td>0.477742</td>\n",
       "      <td>0.856810</td>\n",
       "      <td>0.652465</td>\n",
       "      <td>0.106961</td>\n",
       "      <td>0.942549</td>\n",
       "      <td>0.344261</td>\n",
       "      <td>0.666368</td>\n",
       "      <td>0.659060</td>\n",
       "      <td>0.816982</td>\n",
       "      <td>0.401166</td>\n",
       "      <td>Diabetes</td>\n",
       "    </tr>\n",
       "    <tr>\n",
       "      <th>2</th>\n",
       "      <td>0.452539</td>\n",
       "      <td>0.116135</td>\n",
       "      <td>0.544560</td>\n",
       "      <td>0.400640</td>\n",
       "      <td>0.294538</td>\n",
       "      <td>0.382021</td>\n",
       "      <td>0.625267</td>\n",
       "      <td>0.295122</td>\n",
       "      <td>0.868369</td>\n",
       "      <td>0.026808</td>\n",
       "      <td>0.582170</td>\n",
       "      <td>0.577423</td>\n",
       "      <td>0.045782</td>\n",
       "      <td>0.663642</td>\n",
       "      <td>0.088940</td>\n",
       "      <td>0.466795</td>\n",
       "      <td>0.387332</td>\n",
       "      <td>0.421763</td>\n",
       "      <td>0.007186</td>\n",
       "      <td>0.506918</td>\n",
       "      <td>0.431704</td>\n",
       "      <td>0.417295</td>\n",
       "      <td>0.799074</td>\n",
       "      <td>0.779208</td>\n",
       "      <td>Thalasse</td>\n",
       "    </tr>\n",
       "    <tr>\n",
       "      <th>3</th>\n",
       "      <td>0.136609</td>\n",
       "      <td>0.015605</td>\n",
       "      <td>0.419957</td>\n",
       "      <td>0.191487</td>\n",
       "      <td>0.081168</td>\n",
       "      <td>0.166214</td>\n",
       "      <td>0.073293</td>\n",
       "      <td>0.668719</td>\n",
       "      <td>0.125447</td>\n",
       "      <td>0.501051</td>\n",
       "      <td>0.620258</td>\n",
       "      <td>0.169059</td>\n",
       "      <td>0.139289</td>\n",
       "      <td>0.160496</td>\n",
       "      <td>0.406528</td>\n",
       "      <td>0.016256</td>\n",
       "      <td>0.040137</td>\n",
       "      <td>0.826721</td>\n",
       "      <td>0.265415</td>\n",
       "      <td>0.594148</td>\n",
       "      <td>0.225756</td>\n",
       "      <td>0.490349</td>\n",
       "      <td>0.637061</td>\n",
       "      <td>0.354094</td>\n",
       "      <td>Anemia</td>\n",
       "    </tr>\n",
       "    <tr>\n",
       "      <th>4</th>\n",
       "      <td>0.176737</td>\n",
       "      <td>0.752220</td>\n",
       "      <td>0.971779</td>\n",
       "      <td>0.785286</td>\n",
       "      <td>0.443880</td>\n",
       "      <td>0.439851</td>\n",
       "      <td>0.894991</td>\n",
       "      <td>0.442159</td>\n",
       "      <td>0.257288</td>\n",
       "      <td>0.805987</td>\n",
       "      <td>0.184371</td>\n",
       "      <td>0.580175</td>\n",
       "      <td>0.118461</td>\n",
       "      <td>0.005579</td>\n",
       "      <td>0.414407</td>\n",
       "      <td>0.429431</td>\n",
       "      <td>0.146294</td>\n",
       "      <td>0.221574</td>\n",
       "      <td>0.015280</td>\n",
       "      <td>0.567115</td>\n",
       "      <td>0.841412</td>\n",
       "      <td>0.153350</td>\n",
       "      <td>0.794008</td>\n",
       "      <td>0.094970</td>\n",
       "      <td>Thalasse</td>\n",
       "    </tr>\n",
       "  </tbody>\n",
       "</table>\n",
       "</div>"
      ],
      "text/plain": [
       "    Glucose  Cholesterol  Hemoglobin  Platelets  White Blood Cells  \\\n",
       "0  0.739597     0.650198    0.713631   0.868491           0.687433   \n",
       "1  0.121786     0.023058    0.944893   0.905372           0.507711   \n",
       "2  0.452539     0.116135    0.544560   0.400640           0.294538   \n",
       "3  0.136609     0.015605    0.419957   0.191487           0.081168   \n",
       "4  0.176737     0.752220    0.971779   0.785286           0.443880   \n",
       "\n",
       "   Red Blood Cells  Hematocrit  Mean Corpuscular Volume  \\\n",
       "0         0.529895    0.290006                 0.631045   \n",
       "1         0.403033    0.164216                 0.307553   \n",
       "2         0.382021    0.625267                 0.295122   \n",
       "3         0.166214    0.073293                 0.668719   \n",
       "4         0.439851    0.894991                 0.442159   \n",
       "\n",
       "   Mean Corpuscular Hemoglobin  Mean Corpuscular Hemoglobin Concentration  \\\n",
       "0                     0.001328                                   0.795829   \n",
       "1                     0.207938                                   0.505562   \n",
       "2                     0.868369                                   0.026808   \n",
       "3                     0.125447                                   0.501051   \n",
       "4                     0.257288                                   0.805987   \n",
       "\n",
       "    Insulin       BMI  Systolic Blood Pressure  Diastolic Blood Pressure  \\\n",
       "0  0.034129  0.071774                 0.185596                  0.071455   \n",
       "1  0.571162  0.839271                 0.580903                  0.556037   \n",
       "2  0.582170  0.577423                 0.045782                  0.663642   \n",
       "3  0.620258  0.169059                 0.139289                  0.160496   \n",
       "4  0.184371  0.580175                 0.118461                  0.005579   \n",
       "\n",
       "   Triglycerides     HbA1c  LDL Cholesterol  HDL Cholesterol       ALT  \\\n",
       "0       0.653472  0.502665         0.215560         0.512941  0.064187   \n",
       "1       0.477742  0.856810         0.652465         0.106961  0.942549   \n",
       "2       0.088940  0.466795         0.387332         0.421763  0.007186   \n",
       "3       0.406528  0.016256         0.040137         0.826721  0.265415   \n",
       "4       0.414407  0.429431         0.146294         0.221574  0.015280   \n",
       "\n",
       "        AST  Heart Rate  Creatinine  Troponin  C-reactive Protein   Disease  \n",
       "0  0.610827    0.939485    0.095512  0.465957            0.769230   Healthy  \n",
       "1  0.344261    0.666368    0.659060  0.816982            0.401166  Diabetes  \n",
       "2  0.506918    0.431704    0.417295  0.799074            0.779208  Thalasse  \n",
       "3  0.594148    0.225756    0.490349  0.637061            0.354094    Anemia  \n",
       "4  0.567115    0.841412    0.153350  0.794008            0.094970  Thalasse  "
      ]
     },
     "execution_count": 4,
     "metadata": {},
     "output_type": "execute_result"
    }
   ],
   "source": [
    "train_data.head()"
   ]
  },
  {
   "cell_type": "code",
   "execution_count": 5,
   "metadata": {},
   "outputs": [
    {
     "name": "stdout",
     "output_type": "stream",
     "text": [
      "<class 'pandas.core.frame.DataFrame'>\n",
      "RangeIndex: 2351 entries, 0 to 2350\n",
      "Data columns (total 25 columns):\n",
      " #   Column                                     Non-Null Count  Dtype  \n",
      "---  ------                                     --------------  -----  \n",
      " 0   Glucose                                    2351 non-null   float64\n",
      " 1   Cholesterol                                2351 non-null   float64\n",
      " 2   Hemoglobin                                 2351 non-null   float64\n",
      " 3   Platelets                                  2351 non-null   float64\n",
      " 4   White Blood Cells                          2351 non-null   float64\n",
      " 5   Red Blood Cells                            2351 non-null   float64\n",
      " 6   Hematocrit                                 2351 non-null   float64\n",
      " 7   Mean Corpuscular Volume                    2351 non-null   float64\n",
      " 8   Mean Corpuscular Hemoglobin                2351 non-null   float64\n",
      " 9   Mean Corpuscular Hemoglobin Concentration  2351 non-null   float64\n",
      " 10  Insulin                                    2351 non-null   float64\n",
      " 11  BMI                                        2351 non-null   float64\n",
      " 12  Systolic Blood Pressure                    2351 non-null   float64\n",
      " 13  Diastolic Blood Pressure                   2351 non-null   float64\n",
      " 14  Triglycerides                              2351 non-null   float64\n",
      " 15  HbA1c                                      2351 non-null   float64\n",
      " 16  LDL Cholesterol                            2351 non-null   float64\n",
      " 17  HDL Cholesterol                            2351 non-null   float64\n",
      " 18  ALT                                        2351 non-null   float64\n",
      " 19  AST                                        2351 non-null   float64\n",
      " 20  Heart Rate                                 2351 non-null   float64\n",
      " 21  Creatinine                                 2351 non-null   float64\n",
      " 22  Troponin                                   2351 non-null   float64\n",
      " 23  C-reactive Protein                         2351 non-null   float64\n",
      " 24  Disease                                    2351 non-null   object \n",
      "dtypes: float64(24), object(1)\n",
      "memory usage: 459.3+ KB\n"
     ]
    }
   ],
   "source": [
    "train_data.info()"
   ]
  },
  {
   "cell_type": "code",
   "execution_count": 6,
   "metadata": {},
   "outputs": [
    {
     "data": {
      "text/plain": [
       "Index(['Glucose', 'Cholesterol', 'Hemoglobin', 'Platelets',\n",
       "       'White Blood Cells', 'Red Blood Cells', 'Hematocrit',\n",
       "       'Mean Corpuscular Volume', 'Mean Corpuscular Hemoglobin',\n",
       "       'Mean Corpuscular Hemoglobin Concentration', 'Insulin', 'BMI',\n",
       "       'Systolic Blood Pressure', 'Diastolic Blood Pressure', 'Triglycerides',\n",
       "       'HbA1c', 'LDL Cholesterol', 'HDL Cholesterol', 'ALT', 'AST',\n",
       "       'Heart Rate', 'Creatinine', 'Troponin', 'C-reactive Protein',\n",
       "       'Disease'],\n",
       "      dtype='object')"
      ]
     },
     "execution_count": 6,
     "metadata": {},
     "output_type": "execute_result"
    }
   ],
   "source": [
    "train_data.columns"
   ]
  },
  {
   "cell_type": "code",
   "execution_count": 7,
   "metadata": {},
   "outputs": [
    {
     "data": {
      "image/png": "[encoded data removed]",
      "text/plain": [
       "<Figure size 1600x600 with 1 Axes>"
      ]
     },
     "metadata": {},
     "output_type": "display_data"
    }
   ],
   "source": [
    "# plot missing values in Train Data\n",
    "plt.figure(figsize=(16, 6))\n",
    "sns.heatmap(train_data.isnull(), yticklabels=False, cbar=False, cmap='viridis')\n",
    "plt.show()"
   ]
  },
  {
   "cell_type": "code",
   "execution_count": 8,
   "metadata": {},
   "outputs": [],
   "source": [
    "# Handle missing values if any\n",
    "train_data.dropna(inplace=True)\n",
    "test_data.dropna(inplace=True)"
   ]
  },
  {
   "cell_type": "code",
   "execution_count": 9,
   "metadata": {},
   "outputs": [
    {
     "data": {
      "text/html": [
       "<div>\n",
       "<style scoped>\n",
       "    .dataframe tbody tr th:only-of-type {\n",
       "        vertical-align: middle;\n",
       "    }\n",
       "\n",
       "    .dataframe tbody tr th {\n",
       "        vertical-align: top;\n",
       "    }\n",
       "\n",
       "    .dataframe thead th {\n",
       "        text-align: right;\n",
       "    }\n",
       "</style>\n",
       "<table border=\"1\" class=\"dataframe\">\n",
       "  <thead>\n",
       "    <tr style=\"text-align: right;\">\n",
       "      <th></th>\n",
       "      <th>Glucose</th>\n",
       "      <th>Cholesterol</th>\n",
       "      <th>Hemoglobin</th>\n",
       "      <th>Platelets</th>\n",
       "      <th>White Blood Cells</th>\n",
       "      <th>Red Blood Cells</th>\n",
       "      <th>Hematocrit</th>\n",
       "      <th>Mean Corpuscular Volume</th>\n",
       "      <th>Mean Corpuscular Hemoglobin</th>\n",
       "      <th>Mean Corpuscular Hemoglobin Concentration</th>\n",
       "      <th>Insulin</th>\n",
       "      <th>BMI</th>\n",
       "      <th>Systolic Blood Pressure</th>\n",
       "      <th>Diastolic Blood Pressure</th>\n",
       "      <th>Triglycerides</th>\n",
       "      <th>HbA1c</th>\n",
       "      <th>LDL Cholesterol</th>\n",
       "      <th>HDL Cholesterol</th>\n",
       "      <th>ALT</th>\n",
       "      <th>AST</th>\n",
       "      <th>Heart Rate</th>\n",
       "      <th>Creatinine</th>\n",
       "      <th>Troponin</th>\n",
       "      <th>C-reactive Protein</th>\n",
       "      <th>Disease</th>\n",
       "    </tr>\n",
       "  </thead>\n",
       "  <tbody>\n",
       "    <tr>\n",
       "      <th>0</th>\n",
       "      <td>0.001827</td>\n",
       "      <td>0.033693</td>\n",
       "      <td>0.114755</td>\n",
       "      <td>0.997927</td>\n",
       "      <td>0.562604</td>\n",
       "      <td>0.866499</td>\n",
       "      <td>0.578042</td>\n",
       "      <td>0.914615</td>\n",
       "      <td>0.026864</td>\n",
       "      <td>0.038641</td>\n",
       "      <td>0.645755</td>\n",
       "      <td>0.070888</td>\n",
       "      <td>0.616684</td>\n",
       "      <td>0.168031</td>\n",
       "      <td>0.970168</td>\n",
       "      <td>0.653230</td>\n",
       "      <td>0.186104</td>\n",
       "      <td>0.430398</td>\n",
       "      <td>0.016678</td>\n",
       "      <td>0.885352</td>\n",
       "      <td>0.652733</td>\n",
       "      <td>0.788235</td>\n",
       "      <td>0.054788</td>\n",
       "      <td>0.031313</td>\n",
       "      <td>Thalasse</td>\n",
       "    </tr>\n",
       "    <tr>\n",
       "      <th>1</th>\n",
       "      <td>0.436679</td>\n",
       "      <td>0.972653</td>\n",
       "      <td>0.084998</td>\n",
       "      <td>0.180909</td>\n",
       "      <td>0.675736</td>\n",
       "      <td>0.563889</td>\n",
       "      <td>0.798382</td>\n",
       "      <td>0.670361</td>\n",
       "      <td>0.376092</td>\n",
       "      <td>0.184890</td>\n",
       "      <td>0.353929</td>\n",
       "      <td>0.681551</td>\n",
       "      <td>0.498084</td>\n",
       "      <td>0.216581</td>\n",
       "      <td>0.517805</td>\n",
       "      <td>0.833540</td>\n",
       "      <td>0.153001</td>\n",
       "      <td>0.458533</td>\n",
       "      <td>0.401845</td>\n",
       "      <td>0.635969</td>\n",
       "      <td>0.574425</td>\n",
       "      <td>0.047025</td>\n",
       "      <td>0.607985</td>\n",
       "      <td>0.594123</td>\n",
       "      <td>Diabetes</td>\n",
       "    </tr>\n",
       "    <tr>\n",
       "      <th>2</th>\n",
       "      <td>0.545697</td>\n",
       "      <td>0.324815</td>\n",
       "      <td>0.584467</td>\n",
       "      <td>0.475748</td>\n",
       "      <td>0.558596</td>\n",
       "      <td>0.661007</td>\n",
       "      <td>0.934056</td>\n",
       "      <td>0.381782</td>\n",
       "      <td>0.500342</td>\n",
       "      <td>0.531829</td>\n",
       "      <td>0.310422</td>\n",
       "      <td>0.454435</td>\n",
       "      <td>0.966303</td>\n",
       "      <td>0.967512</td>\n",
       "      <td>0.521000</td>\n",
       "      <td>0.678901</td>\n",
       "      <td>0.220479</td>\n",
       "      <td>0.817151</td>\n",
       "      <td>0.690981</td>\n",
       "      <td>0.101633</td>\n",
       "      <td>0.855740</td>\n",
       "      <td>0.551124</td>\n",
       "      <td>0.413294</td>\n",
       "      <td>0.070909</td>\n",
       "      <td>Heart Di</td>\n",
       "    </tr>\n",
       "    <tr>\n",
       "      <th>3</th>\n",
       "      <td>0.172994</td>\n",
       "      <td>0.050351</td>\n",
       "      <td>0.736000</td>\n",
       "      <td>0.782022</td>\n",
       "      <td>0.069435</td>\n",
       "      <td>0.085219</td>\n",
       "      <td>0.032907</td>\n",
       "      <td>0.460619</td>\n",
       "      <td>0.785448</td>\n",
       "      <td>0.491495</td>\n",
       "      <td>0.819216</td>\n",
       "      <td>0.542478</td>\n",
       "      <td>0.023462</td>\n",
       "      <td>0.744379</td>\n",
       "      <td>0.944932</td>\n",
       "      <td>0.381500</td>\n",
       "      <td>0.459396</td>\n",
       "      <td>0.420154</td>\n",
       "      <td>0.798537</td>\n",
       "      <td>0.399236</td>\n",
       "      <td>0.324600</td>\n",
       "      <td>0.499504</td>\n",
       "      <td>0.436662</td>\n",
       "      <td>0.242766</td>\n",
       "      <td>Diabetes</td>\n",
       "    </tr>\n",
       "    <tr>\n",
       "      <th>4</th>\n",
       "      <td>0.758534</td>\n",
       "      <td>0.739968</td>\n",
       "      <td>0.597868</td>\n",
       "      <td>0.772683</td>\n",
       "      <td>0.875720</td>\n",
       "      <td>0.860265</td>\n",
       "      <td>0.486189</td>\n",
       "      <td>0.486686</td>\n",
       "      <td>0.621048</td>\n",
       "      <td>0.191756</td>\n",
       "      <td>0.681771</td>\n",
       "      <td>0.600863</td>\n",
       "      <td>0.293196</td>\n",
       "      <td>0.968128</td>\n",
       "      <td>0.082744</td>\n",
       "      <td>0.993381</td>\n",
       "      <td>0.272338</td>\n",
       "      <td>0.663579</td>\n",
       "      <td>0.265227</td>\n",
       "      <td>0.918847</td>\n",
       "      <td>0.804910</td>\n",
       "      <td>0.571119</td>\n",
       "      <td>0.188368</td>\n",
       "      <td>0.750848</td>\n",
       "      <td>Heart Di</td>\n",
       "    </tr>\n",
       "  </tbody>\n",
       "</table>\n",
       "</div>"
      ],
      "text/plain": [
       "    Glucose  Cholesterol  Hemoglobin  Platelets  White Blood Cells  \\\n",
       "0  0.001827     0.033693    0.114755   0.997927           0.562604   \n",
       "1  0.436679     0.972653    0.084998   0.180909           0.675736   \n",
       "2  0.545697     0.324815    0.584467   0.475748           0.558596   \n",
       "3  0.172994     0.050351    0.736000   0.782022           0.069435   \n",
       "4  0.758534     0.739968    0.597868   0.772683           0.875720   \n",
       "\n",
       "   Red Blood Cells  Hematocrit  Mean Corpuscular Volume  \\\n",
       "0         0.866499    0.578042                 0.914615   \n",
       "1         0.563889    0.798382                 0.670361   \n",
       "2         0.661007    0.934056                 0.381782   \n",
       "3         0.085219    0.032907                 0.460619   \n",
       "4         0.860265    0.486189                 0.486686   \n",
       "\n",
       "   Mean Corpuscular Hemoglobin  Mean Corpuscular Hemoglobin Concentration  \\\n",
       "0                     0.026864                                   0.038641   \n",
       "1                     0.376092                                   0.184890   \n",
       "2                     0.500342                                   0.531829   \n",
       "3                     0.785448                                   0.491495   \n",
       "4                     0.621048                                   0.191756   \n",
       "\n",
       "    Insulin       BMI  Systolic Blood Pressure  Diastolic Blood Pressure  \\\n",
       "0  0.645755  0.070888                 0.616684                  0.168031   \n",
       "1  0.353929  0.681551                 0.498084                  0.216581   \n",
       "2  0.310422  0.454435                 0.966303                  0.967512   \n",
       "3  0.819216  0.542478                 0.023462                  0.744379   \n",
       "4  0.681771  0.600863                 0.293196                  0.968128   \n",
       "\n",
       "   Triglycerides     HbA1c  LDL Cholesterol  HDL Cholesterol       ALT  \\\n",
       "0       0.970168  0.653230         0.186104         0.430398  0.016678   \n",
       "1       0.517805  0.833540         0.153001         0.458533  0.401845   \n",
       "2       0.521000  0.678901         0.220479         0.817151  0.690981   \n",
       "3       0.944932  0.381500         0.459396         0.420154  0.798537   \n",
       "4       0.082744  0.993381         0.272338         0.663579  0.265227   \n",
       "\n",
       "        AST  Heart Rate  Creatinine  Troponin  C-reactive Protein   Disease  \n",
       "0  0.885352    0.652733    0.788235  0.054788            0.031313  Thalasse  \n",
       "1  0.635969    0.574425    0.047025  0.607985            0.594123  Diabetes  \n",
       "2  0.101633    0.855740    0.551124  0.413294            0.070909  Heart Di  \n",
       "3  0.399236    0.324600    0.499504  0.436662            0.242766  Diabetes  \n",
       "4  0.918847    0.804910    0.571119  0.188368            0.750848  Heart Di  "
      ]
     },
     "execution_count": 9,
     "metadata": {},
     "output_type": "execute_result"
    }
   ],
   "source": [
    "test_data.head()"
   ]
  },
  {
   "cell_type": "code",
   "execution_count": 10,
   "metadata": {},
   "outputs": [
    {
     "name": "stdout",
     "output_type": "stream",
     "text": [
      "<class 'pandas.core.frame.DataFrame'>\n",
      "RangeIndex: 486 entries, 0 to 485\n",
      "Data columns (total 25 columns):\n",
      " #   Column                                     Non-Null Count  Dtype  \n",
      "---  ------                                     --------------  -----  \n",
      " 0   Glucose                                    486 non-null    float64\n",
      " 1   Cholesterol                                486 non-null    float64\n",
      " 2   Hemoglobin                                 486 non-null    float64\n",
      " 3   Platelets                                  486 non-null    float64\n",
      " 4   White Blood Cells                          486 non-null    float64\n",
      " 5   Red Blood Cells                            486 non-null    float64\n",
      " 6   Hematocrit                                 486 non-null    float64\n",
      " 7   Mean Corpuscular Volume                    486 non-null    float64\n",
      " 8   Mean Corpuscular Hemoglobin                486 non-null    float64\n",
      " 9   Mean Corpuscular Hemoglobin Concentration  486 non-null    float64\n",
      " 10  Insulin                                    486 non-null    float64\n",
      " 11  BMI                                        486 non-null    float64\n",
      " 12  Systolic Blood Pressure                    486 non-null    float64\n",
      " 13  Diastolic Blood Pressure                   486 non-null    float64\n",
      " 14  Triglycerides                              486 non-null    float64\n",
      " 15  HbA1c                                      486 non-null    float64\n",
      " 16  LDL Cholesterol                            486 non-null    float64\n",
      " 17  HDL Cholesterol                            486 non-null    float64\n",
      " 18  ALT                                        486 non-null    float64\n",
      " 19  AST                                        486 non-null    float64\n",
      " 20  Heart Rate                                 486 non-null    float64\n",
      " 21  Creatinine                                 486 non-null    float64\n",
      " 22  Troponin                                   486 non-null    float64\n",
      " 23  C-reactive Protein                         486 non-null    float64\n",
      " 24  Disease                                    486 non-null    object \n",
      "dtypes: float64(24), object(1)\n",
      "memory usage: 95.0+ KB\n"
     ]
    }
   ],
   "source": [
    "test_data.info()"
   ]
  },
  {
   "cell_type": "code",
   "execution_count": 11,
   "metadata": {},
   "outputs": [
    {
     "data": {
      "text/plain": [
       "Index(['Glucose', 'Cholesterol', 'Hemoglobin', 'Platelets',\n",
       "       'White Blood Cells', 'Red Blood Cells', 'Hematocrit',\n",
       "       'Mean Corpuscular Volume', 'Mean Corpuscular Hemoglobin',\n",
       "       'Mean Corpuscular Hemoglobin Concentration', 'Insulin', 'BMI',\n",
       "       'Systolic Blood Pressure', 'Diastolic Blood Pressure', 'Triglycerides',\n",
       "       'HbA1c', 'LDL Cholesterol', 'HDL Cholesterol', 'ALT', 'AST',\n",
       "       'Heart Rate', 'Creatinine', 'Troponin', 'C-reactive Protein',\n",
       "       'Disease'],\n",
       "      dtype='object')"
      ]
     },
     "execution_count": 11,
     "metadata": {},
     "output_type": "execute_result"
    }
   ],
   "source": [
    "# Columns in Test Data:\n",
    "test_data.columns"
   ]
  },
  {
   "cell_type": "code",
   "execution_count": 12,
   "metadata": {},
   "outputs": [
    {
     "data": {
      "image/png": "[encoded data removed]",
      "text/plain": [
       "<Figure size 1600x600 with 1 Axes>"
      ]
     },
     "metadata": {},
     "output_type": "display_data"
    }
   ],
   "source": [
    "# plot missing values in Train Data\n",
    "plt.figure(figsize=(16, 6))\n",
    "sns.heatmap(test_data.isnull(), yticklabels=False, cbar=False, cmap='viridis')\n",
    "plt.show()"
   ]
  },
  {
   "cell_type": "code",
   "execution_count": 13,
   "metadata": {},
   "outputs": [],
   "source": [
    "# Separate features and target variable\n",
    "X_train = train_data.drop(columns=['Disease'])\n",
    "y_train = train_data['Disease']\n",
    "X_test = test_data.drop(columns=['Disease'])\n",
    "y_test = test_data['Disease']"
   ]
  },
  {
   "cell_type": "markdown",
   "metadata": {},
   "source": [
    "#### **Step No# 04:- Feature Engineering:**"
   ]
  },
  {
   "cell_type": "code",
   "execution_count": 14,
   "metadata": {},
   "outputs": [],
   "source": [
    "# Create new features\n",
    "X_train['BMI_squared'] = X_train['BMI'] ** 2\n",
    "X_test['BMI_squared'] = X_test['BMI'] ** 2\n",
    "\n",
    "X_train['Glucose_Cholesterol_interaction'] = X_train['Glucose'] * X_train['Cholesterol']\n",
    "X_test['Glucose_Cholesterol_interaction'] = X_test['Glucose'] * X_test['Cholesterol']\n",
    "\n",
    "X_train['Log_Insulin'] = np.log(X_train['Insulin'] + 1)\n",
    "X_test['Log_Insulin'] = np.log(X_test['Insulin'] + 1)"
   ]
  },
  {
   "cell_type": "markdown",
   "metadata": {},
   "source": [
    "#### **Step No# 05:- Feature Scaling:**"
   ]
  },
  {
   "cell_type": "code",
   "execution_count": 15,
   "metadata": {},
   "outputs": [],
   "source": [
    "# Scale the features\n",
    "scaler = StandardScaler()\n",
    "X_train_scaled = scaler.fit_transform(X_train)\n",
    "X_test_scaled = scaler.transform(X_test)"
   ]
  },
  {
   "cell_type": "markdown",
   "metadata": {},
   "source": [
    "#### **Step No# 06:- Model Selection and Hyperparameter Tuning:**"
   ]
  },
  {
   "cell_type": "code",
   "execution_count": 16,
   "metadata": {},
   "outputs": [
    {
     "name": "stdout",
     "output_type": "stream",
     "text": [
      "Best Parameters: {'max_depth': None, 'min_samples_leaf': 1, 'min_samples_split': 2, 'n_estimators': 50}\n"
     ]
    },
    {
     "data": {
      "text/html": [
       "<style>#sk-container-id-1 {color: black;}#sk-container-id-1 pre{padding: 0;}#sk-container-id-1 div.sk-toggleable {background-color: white;}#sk-container-id-1 label.sk-toggleable__label {cursor: pointer;display: block;width: 100%;margin-bottom: 0;padding: 0.3em;box-sizing: border-box;text-align: center;}#sk-container-id-1 label.sk-toggleable__label-arrow:before {content: \"▸\";float: left;margin-right: 0.25em;color: #696969;}#sk-container-id-1 label.sk-toggleable__label-arrow:hover:before {color: black;}#sk-container-id-1 div.sk-estimator:hover label.sk-toggleable__label-arrow:before {color: black;}#sk-container-id-1 div.sk-toggleable__content {max-height: 0;max-width: 0;overflow: hidden;text-align: left;background-color: #f0f8ff;}#sk-container-id-1 div.sk-toggleable__content pre {margin: 0.2em;color: black;border-radius: 0.25em;background-color: #f0f8ff;}#sk-container-id-1 input.sk-toggleable__control:checked~div.sk-toggleable__content {max-height: 200px;max-width: 100%;overflow: auto;}#sk-container-id-1 input.sk-toggleable__control:checked~label.sk-toggleable__label-arrow:before {content: \"▾\";}#sk-container-id-1 div.sk-estimator input.sk-toggleable__control:checked~label.sk-toggleable__label {background-color: #d4ebff;}#sk-container-id-1 div.sk-label input.sk-toggleable__control:checked~label.sk-toggleable__label {background-color: #d4ebff;}#sk-container-id-1 input.sk-hidden--visually {border: 0;clip: rect(1px 1px 1px 1px);clip: rect(1px, 1px, 1px, 1px);height: 1px;margin: -1px;overflow: hidden;padding: 0;position: absolute;width: 1px;}#sk-container-id-1 div.sk-estimator {font-family: monospace;background-color: #f0f8ff;border: 1px dotted black;border-radius: 0.25em;box-sizing: border-box;margin-bottom: 0.5em;}#sk-container-id-1 div.sk-estimator:hover {background-color: #d4ebff;}#sk-container-id-1 div.sk-parallel-item::after {content: \"\";width: 100%;border-bottom: 1px solid gray;flex-grow: 1;}#sk-container-id-1 div.sk-label:hover label.sk-toggleable__label {background-color: #d4ebff;}#sk-container-id-1 div.sk-serial::before {content: \"\";position: absolute;border-left: 1px solid gray;box-sizing: border-box;top: 0;bottom: 0;left: 50%;z-index: 0;}#sk-container-id-1 div.sk-serial {display: flex;flex-direction: column;align-items: center;background-color: white;padding-right: 0.2em;padding-left: 0.2em;position: relative;}#sk-container-id-1 div.sk-item {position: relative;z-index: 1;}#sk-container-id-1 div.sk-parallel {display: flex;align-items: stretch;justify-content: center;background-color: white;position: relative;}#sk-container-id-1 div.sk-item::before, #sk-container-id-1 div.sk-parallel-item::before {content: \"\";position: absolute;border-left: 1px solid gray;box-sizing: border-box;top: 0;bottom: 0;left: 50%;z-index: -1;}#sk-container-id-1 div.sk-parallel-item {display: flex;flex-direction: column;z-index: 1;position: relative;background-color: white;}#sk-container-id-1 div.sk-parallel-item:first-child::after {align-self: flex-end;width: 50%;}#sk-container-id-1 div.sk-parallel-item:last-child::after {align-self: flex-start;width: 50%;}#sk-container-id-1 div.sk-parallel-item:only-child::after {width: 0;}#sk-container-id-1 div.sk-dashed-wrapped {border: 1px dashed gray;margin: 0 0.4em 0.5em 0.4em;box-sizing: border-box;padding-bottom: 0.4em;background-color: white;}#sk-container-id-1 div.sk-label label {font-family: monospace;font-weight: bold;display: inline-block;line-height: 1.2em;}#sk-container-id-1 div.sk-label-container {text-align: center;}#sk-container-id-1 div.sk-container {/* jupyter's `normalize.less` sets `[hidden] { display: none; }` but bootstrap.min.css set `[hidden] { display: none !important; }` so we also need the `!important` here to be able to override the default hidden behavior on the sphinx rendered scikit-learn.org. See: https://github.com/scikit-learn/scikit-learn/issues/21755 */display: inline-block !important;position: relative;}#sk-container-id-1 div.sk-text-repr-fallback {display: none;}</style><div id=\"sk-container-id-1\" class=\"sk-top-container\"><div class=\"sk-text-repr-fallback\"><pre>RandomForestClassifier(n_estimators=50)</pre><b>In a Jupyter environment, please rerun this cell to show the HTML representation or trust the notebook. <br />On GitHub, the HTML representation is unable to render, please try loading this page with nbviewer.org.</b></div><div class=\"sk-container\" hidden><div class=\"sk-item\"><div class=\"sk-estimator sk-toggleable\"><input class=\"sk-toggleable__control sk-hidden--visually\" id=\"sk-estimator-id-1\" type=\"checkbox\" checked><label for=\"sk-estimator-id-1\" class=\"sk-toggleable__label sk-toggleable__label-arrow\">RandomForestClassifier</label><div class=\"sk-toggleable__content\"><pre>RandomForestClassifier(n_estimators=50)</pre></div></div></div></div></div>"
      ],
      "text/plain": [
       "RandomForestClassifier(n_estimators=50)"
      ]
     },
     "execution_count": 16,
     "metadata": {},
     "output_type": "execute_result"
    }
   ],
   "source": [
    "# Define the parameter grid\n",
    "param_grid = {\n",
    "    'n_estimators': [50, 100, 150],\n",
    "    'max_depth': [None, 10, 20],\n",
    "    'min_samples_split': [2, 5, 10],\n",
    "    'min_samples_leaf': [1, 2, 4]\n",
    "}\n",
    "\n",
    "# Initialize the Random Forest classifier\n",
    "rf = RandomForestClassifier()\n",
    "\n",
    "# Perform GridSearchCV\n",
    "grid_search = GridSearchCV(estimator=rf, param_grid=param_grid, cv=5, scoring='accuracy')\n",
    "grid_search.fit(X_train_scaled, y_train)\n",
    "\n",
    "# Get best parameters\n",
    "best_params = grid_search.best_params_\n",
    "print(\"Best Parameters:\", best_params)\n",
    "\n",
    "# Train the model with best parameters\n",
    "best_rf_model = RandomForestClassifier(**best_params)\n",
    "best_rf_model.fit(X_train_scaled, y_train)"
   ]
  },
  {
   "cell_type": "markdown",
   "metadata": {},
   "source": [
    "#### **Step No# 07:- Model Evaluation:**"
   ]
  },
  {
   "cell_type": "code",
   "execution_count": 17,
   "metadata": {},
   "outputs": [],
   "source": [
    "# Predictions\n",
    "y_pred_train = best_rf_model.predict(X_train_scaled)\n",
    "y_pred_test = best_rf_model.predict(X_test_scaled)"
   ]
  },
  {
   "cell_type": "code",
   "execution_count": 18,
   "metadata": {},
   "outputs": [
    {
     "name": "stdout",
     "output_type": "stream",
     "text": [
      "Training Accuracy: 100.00%\n",
      "Test Accuracy: 44.03%\n",
      "\n",
      "Training Precision: 100.00%\n",
      "Test Precision: 50.94%\n",
      "\n",
      "Training Recall: 100.00%\n",
      "Test Recall: 44.03%\n",
      "\n",
      "Training F1-score: 100.00%\n",
      "Test F1-score: 44.65%\n"
     ]
    }
   ],
   "source": [
    "# Evaluate the model\n",
    "train_accuracy = accuracy_score(y_train, y_pred_train) * 100\n",
    "test_accuracy = accuracy_score(y_test, y_pred_test) * 100\n",
    "\n",
    "# For multiclass classification, use average='macro', 'micro', or 'weighted'\n",
    "train_precision = precision_score(y_train, y_pred_train, average='weighted') * 100\n",
    "test_precision = precision_score(y_test, y_pred_test, average='weighted') * 100\n",
    "\n",
    "train_recall = recall_score(y_train, y_pred_train, average='weighted') * 100\n",
    "test_recall = recall_score(y_test, y_pred_test, average='weighted') * 100\n",
    "\n",
    "train_f1 = f1_score(y_train, y_pred_train, average='weighted') * 100\n",
    "test_f1 = f1_score(y_test, y_pred_test, average='weighted') * 100\n",
    "\n",
    "print(f\"Training Accuracy: {train_accuracy:.2f}%\")\n",
    "print(f\"Test Accuracy: {test_accuracy:.2f}%\")\n",
    "print(f\"\\nTraining Precision: {train_precision:.2f}%\")\n",
    "print(f\"Test Precision: {test_precision:.2f}%\")\n",
    "print(f\"\\nTraining Recall: {train_recall:.2f}%\")\n",
    "print(f\"Test Recall: {test_recall:.2f}%\")\n",
    "print(f\"\\nTraining F1-score: {train_f1:.2f}%\")\n",
    "print(f\"Test F1-score: {test_f1:.2f}%\")"
   ]
  },
  {
   "cell_type": "markdown",
   "metadata": {},
   "source": [
    "#### **Step No# 08:- Visualize Feature Distributions:**"
   ]
  },
  {
   "cell_type": "code",
   "execution_count": 19,
   "metadata": {},
   "outputs": [
    {
     "data": {
      "image/png": "[encoded data removed]",
      "text/plain": [
       "<Figure size 1000x600 with 1 Axes>"
      ]
     },
     "metadata": {},
     "output_type": "display_data"
    }
   ],
   "source": [
    "# Scatter Plot\n",
    "plt.figure(figsize=(10, 6))\n",
    "sns.scatterplot(data=train_data, x='Glucose', y='Cholesterol', hue='Disease')\n",
    "plt.title('Scatter Plot of Glucose vs Cholesterol')\n",
    "plt.xlabel('Glucose')\n",
    "plt.ylabel('Cholesterol')\n",
    "plt.show()"
   ]
  },
  {
   "cell_type": "code",
   "execution_count": 20,
   "metadata": {},
   "outputs": [
    {
     "data": {
      "image/png": "[encoded data removed]",
      "text/plain": [
       "<Figure size 800x800 with 1 Axes>"
      ]
     },
     "metadata": {},
     "output_type": "display_data"
    }
   ],
   "source": [
    "# Pie Chart\n",
    "disease_counts = train_data['Disease'].value_counts()\n",
    "plt.figure(figsize=(8, 8))\n",
    "plt.pie(disease_counts, labels=disease_counts.index, autopct='%1.1f%%', startangle=140)\n",
    "plt.title('Pie Chart of Disease Distribution')\n",
    "plt.show()"
   ]
  },
  {
   "cell_type": "code",
   "execution_count": 21,
   "metadata": {},
   "outputs": [
    {
     "data": {
      "image/png": "[encoded data removed]",
      "text/plain": [
       "<Figure size 1200x800 with 1 Axes>"
      ]
     },
     "metadata": {},
     "output_type": "display_data"
    }
   ],
   "source": [
    "# Bar Plot\n",
    "plt.figure(figsize=(12, 8))\n",
    "sns.barplot(x=disease_counts.index, y=disease_counts.values, palette=\"hot\")\n",
    "plt.title('Bar Plot of Disease Distribution')\n",
    "plt.xlabel('Disease')\n",
    "plt.ylabel('Count')\n",
    "plt.show()"
   ]
  },
  {
   "cell_type": "code",
   "execution_count": 22,
   "metadata": {},
   "outputs": [
    {
     "data": {
      "image/png": "[encoded data removed]",
      "text/plain": [
       "<Figure size 1000x600 with 1 Axes>"
      ]
     },
     "metadata": {},
     "output_type": "display_data"
    }
   ],
   "source": [
    "# Histogram\n",
    "plt.figure(figsize=(10, 6))\n",
    "sns.histplot(train_data['BMI'], kde=True, bins=30)\n",
    "plt.title('Histogram of BMI')\n",
    "plt.xlabel('BMI')\n",
    "plt.ylabel('Frequency')\n",
    "plt.show()"
   ]
  },
  {
   "cell_type": "code",
   "execution_count": 23,
   "metadata": {},
   "outputs": [
    {
     "data": {
      "application/vnd.plotly.v1+json": {
       "config": {
        "plotlyServerURL": "https://plot.ly"
       },
       "data": [
        {
         "branchvalues": "total",
         "customdata": [
          [
           null
          ],
          [
           null
          ],
          [
           null
          ],
          [
           null
          ],
          [
           null
          ],
          [
           null
          ],
          [
           null
          ],
          [
           null
          ],
          [
           null
          ],
          [
           null
          ],
          [
           null
          ],
          [
           null
          ],
          [
           null
          ],
          [
           null
          ],
          [
           null
          ],
          [
           "Thalasse"
          ],
          [
           null
          ],
          [
           "Healthy"
          ],
          [
           null
          ],
          [
           "Diabetes"
          ],
          [
           null
          ],
          [
           null
          ],
          [
           "Thalasse"
          ],
          [
           null
          ],
          [
           null
          ],
          [
           null
          ],
          [
           "Healthy"
          ],
          [
           null
          ],
          [
           null
          ],
          [
           "Thalasse"
          ],
          [
           null
          ],
          [
           null
          ],
          [
           null
          ],
          [
           null
          ],
          [
           null
          ],
          [
           null
          ],
          [
           null
          ],
          [
           null
          ],
          [
           null
          ],
          [
           null
          ],
          [
           "Diabetes"
          ],
          [
           null
          ],
          [
           null
          ],
          [
           "Thromboc"
          ],
          [
           null
          ],
          [
           "Diabetes"
          ],
          [
           null
          ],
          [
           null
          ],
          [
           null
          ],
          [
           null
          ],
          [
           null
          ],
          [
           null
          ],
          [
           null
          ],
          [
           null
          ],
          [
           null
          ],
          [
           null
          ],
          [
           null
          ],
          [
           "Anemia"
          ],
          [
           null
          ],
          [
           null
          ],
          [
           null
          ],
          [
           null
          ],
          [
           null
          ],
          [
           null
          ],
          [
           null
          ],
          [
           null
          ],
          [
           "Anemia"
          ],
          [
           null
          ],
          [
           null
          ],
          [
           null
          ],
          [
           null
          ],
          [
           null
          ],
          [
           null
          ],
          [
           null
          ],
          [
           null
          ],
          [
           null
          ],
          [
           null
          ],
          [
           "Thromboc"
          ],
          [
           null
          ],
          [
           null
          ],
          [
           null
          ],
          [
           "Anemia"
          ],
          [
           "Healthy"
          ],
          [
           null
          ],
          [
           null
          ],
          [
           null
          ],
          [
           null
          ],
          [
           "Thromboc"
          ],
          [
           null
          ],
          [
           null
          ],
          [
           null
          ],
          [
           null
          ],
          [
           null
          ],
          [
           null
          ],
          [
           null
          ],
          [
           null
          ],
          [
           null
          ],
          [
           null
          ],
          [
           null
          ],
          [
           null
          ],
          [
           null
          ],
          [
           null
          ],
          [
           null
          ],
          [
           null
          ],
          [
           null
          ]
         ],
         "domain": {
          "x": [
           0,
           1
          ],
          "y": [
           0,
           1
          ]
         },
         "hovertemplate": "labels=%{label}<br>BMI=%{value}<br>parent=%{parent}<br>id=%{id}<br>Disease=%{customdata[0]}<extra></extra>",
         "ids": [
          "Healthy/Overweight/Hypertension Stage 1",
          "Anemia/Obese/Hypertension Stage 1",
          "Thromboc/Obese/Hypertension Stage 1",
          "Healthy/Overweight/Elevated",
          "Diabetes/Overweight/Elevated",
          "Diabetes/Underweight/Hypertension Stage 2",
          "Anemia/Normal/Hypertension Stage 2",
          "Healthy/Normal/Elevated",
          "Diabetes/Normal/Elevated",
          "Healthy/Normal/Hypertension Stage 2",
          "Thalasse/Underweight/Hypertension Stage 1",
          "Anemia/Underweight/Elevated",
          "Diabetes/Obese/Normal",
          "Anemia/Obese/Normal",
          "Healthy/Underweight/Hypertension Stage 1",
          "Thalasse/Underweight",
          "Diabetes/Obese",
          "Healthy/Underweight",
          "Thromboc/Overweight",
          "Diabetes",
          "Thalasse/Normal",
          "Healthy/Obese",
          "Thalasse/Underweight/Normal",
          "Anemia/Overweight/Normal",
          "Anemia/Normal",
          "Healthy/Overweight/Normal",
          "Healthy",
          "Thalasse/Obese/Hypertension Stage 1",
          "Thromboc/Overweight/Hypertension Stage 1",
          "Thalasse",
          "Thromboc/Normal/Hypertension Stage 1",
          "Anemia/Underweight/Hypertension Stage 2",
          "Healthy/Obese/Hypertension Stage 1",
          "Anemia/Obese",
          "Thalasse/Overweight",
          "Diabetes/Normal/Hypertension Stage 2",
          "Diabetes/Overweight/Hypertension Stage 2",
          "Thalasse/Overweight/Hypertension Stage 2",
          "Anemia/Obese/Hypertension Stage 2",
          "Diabetes/Obese/Hypertension Stage 2",
          "Diabetes/Underweight",
          "Healthy/Underweight/Hypertension Stage 2",
          "Thromboc/Overweight/Hypertension Stage 2",
          "Thromboc",
          "Healthy/Obese/Normal",
          "Diabetes/Underweight/Normal",
          "Anemia/Normal/Normal",
          "Thromboc/Normal/Elevated",
          "Diabetes/Overweight/Normal",
          "Thalasse/Overweight/Normal",
          "Anemia/Obese/Elevated",
          "Thromboc/Obese/Normal",
          "Thromboc/Normal/Hypertension Stage 2",
          "Anemia/Overweight/Hypertension Stage 2",
          "Thalasse/Underweight/Elevated",
          "Healthy/Overweight/Hypertension Stage 2",
          "Thromboc/Underweight/Hypertension Stage 1",
          "Anemia/Underweight",
          "Thalasse/Normal/Hypertension Stage 2",
          "Thromboc/Overweight/Normal",
          "Diabetes/Normal",
          "Thromboc/Normal",
          "Healthy/Overweight",
          "Thalasse/Obese",
          "Thalasse/Obese/Hypertension Stage 2",
          "Anemia/Normal/Elevated",
          "Anemia/Underweight/Normal",
          "Thromboc/Underweight/Hypertension Stage 2",
          "Anemia/Normal/Hypertension Stage 1",
          "Thalasse/Overweight/Hypertension Stage 1",
          "Thalasse/Overweight/Elevated",
          "Thalasse/Normal/Hypertension Stage 1",
          "Diabetes/Obese/Hypertension Stage 1",
          "Thromboc/Underweight/Elevated",
          "Anemia/Overweight",
          "Diabetes/Overweight",
          "Thalasse/Normal/Normal",
          "Thromboc/Underweight/Normal",
          "Anemia/Underweight/Hypertension Stage 1",
          "Diabetes/Normal/Hypertension Stage 1",
          "Thromboc/Obese",
          "Anemia",
          "Healthy/Underweight/Normal",
          "Healthy/Normal/Hypertension Stage 1",
          "Healthy/Normal",
          "Diabetes/Overweight/Hypertension Stage 1",
          "Diabetes/Underweight/Elevated",
          "Thromboc/Underweight",
          "Thalasse/Underweight/Hypertension Stage 2",
          "Thromboc/Obese/Elevated",
          "Thalasse/Obese/Elevated",
          "Healthy/Obese/Elevated",
          "Thromboc/Obese/Hypertension Stage 2",
          "Healthy/Obese/Hypertension Stage 2",
          "Anemia/Overweight/Elevated",
          "Thalasse/Normal/Elevated",
          "Thalasse/Obese/Normal",
          "Diabetes/Obese/Elevated",
          "Diabetes/Underweight/Hypertension Stage 1",
          "Thromboc/Overweight/Elevated",
          "Anemia/Overweight/Hypertension Stage 1",
          "Healthy/Normal/Normal",
          "Thromboc/Normal/Normal",
          "Healthy/Underweight/Elevated",
          "Diabetes/Normal/Normal"
         ],
         "labels": [
          "Hypertension Stage 1",
          "Hypertension Stage 1",
          "Hypertension Stage 1",
          "Elevated",
          "Elevated",
          "Hypertension Stage 2",
          "Hypertension Stage 2",
          "Elevated",
          "Elevated",
          "Hypertension Stage 2",
          "Hypertension Stage 1",
          "Elevated",
          "Normal",
          "Normal",
          "Hypertension Stage 1",
          "Underweight",
          "Obese",
          "Underweight",
          "Overweight",
          "Diabetes",
          "Normal",
          "Obese",
          "Normal",
          "Normal",
          "Normal",
          "Normal",
          "Healthy",
          "Hypertension Stage 1",
          "Hypertension Stage 1",
          "Thalasse",
          "Hypertension Stage 1",
          "Hypertension Stage 2",
          "Hypertension Stage 1",
          "Obese",
          "Overweight",
          "Hypertension Stage 2",
          "Hypertension Stage 2",
          "Hypertension Stage 2",
          "Hypertension Stage 2",
          "Hypertension Stage 2",
          "Underweight",
          "Hypertension Stage 2",
          "Hypertension Stage 2",
          "Thromboc",
          "Normal",
          "Normal",
          "Normal",
          "Elevated",
          "Normal",
          "Normal",
          "Elevated",
          "Normal",
          "Hypertension Stage 2",
          "Hypertension Stage 2",
          "Elevated",
          "Hypertension Stage 2",
          "Hypertension Stage 1",
          "Underweight",
          "Hypertension Stage 2",
          "Normal",
          "Normal",
          "Normal",
          "Overweight",
          "Obese",
          "Hypertension Stage 2",
          "Elevated",
          "Normal",
          "Hypertension Stage 2",
          "Hypertension Stage 1",
          "Hypertension Stage 1",
          "Elevated",
          "Hypertension Stage 1",
          "Hypertension Stage 1",
          "Elevated",
          "Overweight",
          "Overweight",
          "Normal",
          "Normal",
          "Hypertension Stage 1",
          "Hypertension Stage 1",
          "Obese",
          "Anemia",
          "Normal",
          "Hypertension Stage 1",
          "Normal",
          "Hypertension Stage 1",
          "Elevated",
          "Underweight",
          "Hypertension Stage 2",
          "Elevated",
          "Elevated",
          "Elevated",
          "Hypertension Stage 2",
          "Hypertension Stage 2",
          "Elevated",
          "Elevated",
          "Normal",
          "Elevated",
          "Hypertension Stage 1",
          "Elevated",
          "Hypertension Stage 1",
          "Normal",
          "Normal",
          "Elevated",
          "Normal"
         ],
         "marker": {
          "colors": [
           "#636efa",
           "#636efa",
           "#636efa",
           "#636efa",
           "#636efa",
           "#636efa",
           "#636efa",
           "#636efa",
           "#636efa",
           "#636efa",
           "#636efa",
           "#636efa",
           "#636efa",
           "#636efa",
           "#636efa",
           "#EF553B",
           "#636efa",
           "#00cc96",
           "#636efa",
           "#ab63fa",
           "#636efa",
           "#636efa",
           "#EF553B",
           "#636efa",
           "#636efa",
           "#636efa",
           "#00cc96",
           "#636efa",
           "#636efa",
           "#EF553B",
           "#636efa",
           "#636efa",
           "#636efa",
           "#636efa",
           "#636efa",
           "#636efa",
           "#636efa",
           "#636efa",
           "#636efa",
           "#636efa",
           "#ab63fa",
           "#636efa",
           "#636efa",
           "#FFA15A",
           "#636efa",
           "#ab63fa",
           "#636efa",
           "#636efa",
           "#636efa",
           "#636efa",
           "#636efa",
           "#636efa",
           "#636efa",
           "#636efa",
           "#636efa",
           "#636efa",
           "#636efa",
           "#19d3f3",
           "#636efa",
           "#636efa",
           "#636efa",
           "#636efa",
           "#636efa",
           "#636efa",
           "#636efa",
           "#636efa",
           "#19d3f3",
           "#636efa",
           "#636efa",
           "#636efa",
           "#636efa",
           "#636efa",
           "#636efa",
           "#636efa",
           "#636efa",
           "#636efa",
           "#636efa",
           "#FFA15A",
           "#636efa",
           "#636efa",
           "#636efa",
           "#19d3f3",
           "#00cc96",
           "#636efa",
           "#636efa",
           "#636efa",
           "#636efa",
           "#FFA15A",
           "#636efa",
           "#636efa",
           "#636efa",
           "#636efa",
           "#636efa",
           "#636efa",
           "#636efa",
           "#636efa",
           "#636efa",
           "#636efa",
           "#636efa",
           "#636efa",
           "#636efa",
           "#636efa",
           "#636efa",
           "#636efa",
           "#636efa"
          ]
         },
         "name": "",
         "parents": [
          "Healthy/Overweight",
          "Anemia/Obese",
          "Thromboc/Obese",
          "Healthy/Overweight",
          "Diabetes/Overweight",
          "Diabetes/Underweight",
          "Anemia/Normal",
          "Healthy/Normal",
          "Diabetes/Normal",
          "Healthy/Normal",
          "Thalasse/Underweight",
          "Anemia/Underweight",
          "Diabetes/Obese",
          "Anemia/Obese",
          "Healthy/Underweight",
          "Thalasse",
          "Diabetes",
          "Healthy",
          "Thromboc",
          "",
          "Thalasse",
          "Healthy",
          "Thalasse/Underweight",
          "Anemia/Overweight",
          "Anemia",
          "Healthy/Overweight",
          "",
          "Thalasse/Obese",
          "Thromboc/Overweight",
          "",
          "Thromboc/Normal",
          "Anemia/Underweight",
          "Healthy/Obese",
          "Anemia",
          "Thalasse",
          "Diabetes/Normal",
          "Diabetes/Overweight",
          "Thalasse/Overweight",
          "Anemia/Obese",
          "Diabetes/Obese",
          "Diabetes",
          "Healthy/Underweight",
          "Thromboc/Overweight",
          "",
          "Healthy/Obese",
          "Diabetes/Underweight",
          "Anemia/Normal",
          "Thromboc/Normal",
          "Diabetes/Overweight",
          "Thalasse/Overweight",
          "Anemia/Obese",
          "Thromboc/Obese",
          "Thromboc/Normal",
          "Anemia/Overweight",
          "Thalasse/Underweight",
          "Healthy/Overweight",
          "Thromboc/Underweight",
          "Anemia",
          "Thalasse/Normal",
          "Thromboc/Overweight",
          "Diabetes",
          "Thromboc",
          "Healthy",
          "Thalasse",
          "Thalasse/Obese",
          "Anemia/Normal",
          "Anemia/Underweight",
          "Thromboc/Underweight",
          "Anemia/Normal",
          "Thalasse/Overweight",
          "Thalasse/Overweight",
          "Thalasse/Normal",
          "Diabetes/Obese",
          "Thromboc/Underweight",
          "Anemia",
          "Diabetes",
          "Thalasse/Normal",
          "Thromboc/Underweight",
          "Anemia/Underweight",
          "Diabetes/Normal",
          "Thromboc",
          "",
          "Healthy/Underweight",
          "Healthy/Normal",
          "Healthy",
          "Diabetes/Overweight",
          "Diabetes/Underweight",
          "Thromboc",
          "Thalasse/Underweight",
          "Thromboc/Obese",
          "Thalasse/Obese",
          "Healthy/Obese",
          "Thromboc/Obese",
          "Healthy/Obese",
          "Anemia/Overweight",
          "Thalasse/Normal",
          "Thalasse/Obese",
          "Diabetes/Obese",
          "Diabetes/Underweight",
          "Thromboc/Overweight",
          "Anemia/Overweight",
          "Healthy/Normal",
          "Thromboc/Normal",
          "Healthy/Underweight",
          "Diabetes/Normal"
         ],
         "type": "sunburst",
         "values": [
          0,
          0,
          0,
          0,
          0,
          0,
          0,
          0,
          0,
          0,
          0,
          0,
          0,
          0,
          0,
          260.49882361315406,
          0,
          248.61475017097624,
          0,
          265.63139719111564,
          0,
          0,
          260.49882361315406,
          0,
          0,
          0,
          248.61475017097624,
          0,
          0,
          260.49882361315406,
          0,
          0,
          0,
          0,
          0,
          0,
          0,
          0,
          0,
          0,
          265.63139719111564,
          0,
          0,
          33.64647476950003,
          0,
          265.63139719111564,
          0,
          0,
          0,
          0,
          0,
          0,
          0,
          0,
          0,
          0,
          0,
          218.24114086551788,
          0,
          0,
          0,
          0,
          0,
          0,
          0,
          0,
          218.24114086551788,
          0,
          0,
          0,
          0,
          0,
          0,
          0,
          0,
          0,
          0,
          33.64647476950003,
          0,
          0,
          0,
          218.24114086551788,
          248.61475017097624,
          0,
          0,
          0,
          0,
          33.64647476950003,
          0,
          0,
          0,
          0,
          0,
          0,
          0,
          0,
          0,
          0,
          0,
          0,
          0,
          0,
          0,
          0,
          0
         ]
        }
       ],
       "layout": {
        "legend": {
         "tracegroupgap": 0
        },
        "margin": {
         "t": 60
        },
        "template": {
         "data": {
          "bar": [
           {
            "error_x": {
             "color": "#2a3f5f"
            },
            "error_y": {
             "color": "#2a3f5f"
            },
            "marker": {
             "line": {
              "color": "#E5ECF6",
              "width": 0.5
             },
             "pattern": {
              "fillmode": "overlay",
              "size": 10,
              "solidity": 0.2
             }
            },
            "type": "bar"
           }
          ],
          "barpolar": [
           {
            "marker": {
             "line": {
              "color": "#E5ECF6",
              "width": 0.5
             },
             "pattern": {
              "fillmode": "overlay",
              "size": 10,
              "solidity": 0.2
             }
            },
            "type": "barpolar"
           }
          ],
          "carpet": [
           {
            "aaxis": {
             "endlinecolor": "#2a3f5f",
             "gridcolor": "white",
             "linecolor": "white",
             "minorgridcolor": "white",
             "startlinecolor": "#2a3f5f"
            },
            "baxis": {
             "endlinecolor": "#2a3f5f",
             "gridcolor": "white",
             "linecolor": "white",
             "minorgridcolor": "white",
             "startlinecolor": "#2a3f5f"
            },
            "type": "carpet"
           }
          ],
          "choropleth": [
           {
            "colorbar": {
             "outlinewidth": 0,
             "ticks": ""
            },
            "type": "choropleth"
           }
          ],
          "contour": [
           {
            "colorbar": {
             "outlinewidth": 0,
             "ticks": ""
            },
            "colorscale": [
             [
              0,
              "#0d0887"
             ],
             [
              0.1111111111111111,
              "#46039f"
             ],
             [
              0.2222222222222222,
              "#7201a8"
             ],
             [
              0.3333333333333333,
              "#9c179e"
             ],
             [
              0.4444444444444444,
              "#bd3786"
             ],
             [
              0.5555555555555556,
              "#d8576b"
             ],
             [
              0.6666666666666666,
              "#ed7953"
             ],
             [
              0.7777777777777778,
              "#fb9f3a"
             ],
             [
              0.8888888888888888,
              "#fdca26"
             ],
             [
              1,
              "#f0f921"
             ]
            ],
            "type": "contour"
           }
          ],
          "contourcarpet": [
           {
            "colorbar": {
             "outlinewidth": 0,
             "ticks": ""
            },
            "type": "contourcarpet"
           }
          ],
          "heatmap": [
           {
            "colorbar": {
             "outlinewidth": 0,
             "ticks": ""
            },
            "colorscale": [
             [
              0,
              "#0d0887"
             ],
             [
              0.1111111111111111,
              "#46039f"
             ],
             [
              0.2222222222222222,
              "#7201a8"
             ],
             [
              0.3333333333333333,
              "#9c179e"
             ],
             [
              0.4444444444444444,
              "#bd3786"
             ],
             [
              0.5555555555555556,
              "#d8576b"
             ],
             [
              0.6666666666666666,
              "#ed7953"
             ],
             [
              0.7777777777777778,
              "#fb9f3a"
             ],
             [
              0.8888888888888888,
              "#fdca26"
             ],
             [
              1,
              "#f0f921"
             ]
            ],
            "type": "heatmap"
           }
          ],
          "heatmapgl": [
           {
            "colorbar": {
             "outlinewidth": 0,
             "ticks": ""
            },
            "colorscale": [
             [
              0,
              "#0d0887"
             ],
             [
              0.1111111111111111,
              "#46039f"
             ],
             [
              0.2222222222222222,
              "#7201a8"
             ],
             [
              0.3333333333333333,
              "#9c179e"
             ],
             [
              0.4444444444444444,
              "#bd3786"
             ],
             [
              0.5555555555555556,
              "#d8576b"
             ],
             [
              0.6666666666666666,
              "#ed7953"
             ],
             [
              0.7777777777777778,
              "#fb9f3a"
             ],
             [
              0.8888888888888888,
              "#fdca26"
             ],
             [
              1,
              "#f0f921"
             ]
            ],
            "type": "heatmapgl"
           }
          ],
          "histogram": [
           {
            "marker": {
             "pattern": {
              "fillmode": "overlay",
              "size": 10,
              "solidity": 0.2
             }
            },
            "type": "histogram"
           }
          ],
          "histogram2d": [
           {
            "colorbar": {
             "outlinewidth": 0,
             "ticks": ""
            },
            "colorscale": [
             [
              0,
              "#0d0887"
             ],
             [
              0.1111111111111111,
              "#46039f"
             ],
             [
              0.2222222222222222,
              "#7201a8"
             ],
             [
              0.3333333333333333,
              "#9c179e"
             ],
             [
              0.4444444444444444,
              "#bd3786"
             ],
             [
              0.5555555555555556,
              "#d8576b"
             ],
             [
              0.6666666666666666,
              "#ed7953"
             ],
             [
              0.7777777777777778,
              "#fb9f3a"
             ],
             [
              0.8888888888888888,
              "#fdca26"
             ],
             [
              1,
              "#f0f921"
             ]
            ],
            "type": "histogram2d"
           }
          ],
          "histogram2dcontour": [
           {
            "colorbar": {
             "outlinewidth": 0,
             "ticks": ""
            },
            "colorscale": [
             [
              0,
              "#0d0887"
             ],
             [
              0.1111111111111111,
              "#46039f"
             ],
             [
              0.2222222222222222,
              "#7201a8"
             ],
             [
              0.3333333333333333,
              "#9c179e"
             ],
             [
              0.4444444444444444,
              "#bd3786"
             ],
             [
              0.5555555555555556,
              "#d8576b"
             ],
             [
              0.6666666666666666,
              "#ed7953"
             ],
             [
              0.7777777777777778,
              "#fb9f3a"
             ],
             [
              0.8888888888888888,
              "#fdca26"
             ],
             [
              1,
              "#f0f921"
             ]
            ],
            "type": "histogram2dcontour"
           }
          ],
          "mesh3d": [
           {
            "colorbar": {
             "outlinewidth": 0,
             "ticks": ""
            },
            "type": "mesh3d"
           }
          ],
          "parcoords": [
           {
            "line": {
             "colorbar": {
              "outlinewidth": 0,
              "ticks": ""
             }
            },
            "type": "parcoords"
           }
          ],
          "pie": [
           {
            "automargin": true,
            "type": "pie"
           }
          ],
          "scatter": [
           {
            "fillpattern": {
             "fillmode": "overlay",
             "size": 10,
             "solidity": 0.2
            },
            "type": "scatter"
           }
          ],
          "scatter3d": [
           {
            "line": {
             "colorbar": {
              "outlinewidth": 0,
              "ticks": ""
             }
            },
            "marker": {
             "colorbar": {
              "outlinewidth": 0,
              "ticks": ""
             }
            },
            "type": "scatter3d"
           }
          ],
          "scattercarpet": [
           {
            "marker": {
             "colorbar": {
              "outlinewidth": 0,
              "ticks": ""
             }
            },
            "type": "scattercarpet"
           }
          ],
          "scattergeo": [
           {
            "marker": {
             "colorbar": {
              "outlinewidth": 0,
              "ticks": ""
             }
            },
            "type": "scattergeo"
           }
          ],
          "scattergl": [
           {
            "marker": {
             "colorbar": {
              "outlinewidth": 0,
              "ticks": ""
             }
            },
            "type": "scattergl"
           }
          ],
          "scattermapbox": [
           {
            "marker": {
             "colorbar": {
              "outlinewidth": 0,
              "ticks": ""
             }
            },
            "type": "scattermapbox"
           }
          ],
          "scatterpolar": [
           {
            "marker": {
             "colorbar": {
              "outlinewidth": 0,
              "ticks": ""
             }
            },
            "type": "scatterpolar"
           }
          ],
          "scatterpolargl": [
           {
            "marker": {
             "colorbar": {
              "outlinewidth": 0,
              "ticks": ""
             }
            },
            "type": "scatterpolargl"
           }
          ],
          "scatterternary": [
           {
            "marker": {
             "colorbar": {
              "outlinewidth": 0,
              "ticks": ""
             }
            },
            "type": "scatterternary"
           }
          ],
          "surface": [
           {
            "colorbar": {
             "outlinewidth": 0,
             "ticks": ""
            },
            "colorscale": [
             [
              0,
              "#0d0887"
             ],
             [
              0.1111111111111111,
              "#46039f"
             ],
             [
              0.2222222222222222,
              "#7201a8"
             ],
             [
              0.3333333333333333,
              "#9c179e"
             ],
             [
              0.4444444444444444,
              "#bd3786"
             ],
             [
              0.5555555555555556,
              "#d8576b"
             ],
             [
              0.6666666666666666,
              "#ed7953"
             ],
             [
              0.7777777777777778,
              "#fb9f3a"
             ],
             [
              0.8888888888888888,
              "#fdca26"
             ],
             [
              1,
              "#f0f921"
             ]
            ],
            "type": "surface"
           }
          ],
          "table": [
           {
            "cells": {
             "fill": {
              "color": "#EBF0F8"
             },
             "line": {
              "color": "white"
             }
            },
            "header": {
             "fill": {
              "color": "#C8D4E3"
             },
             "line": {
              "color": "white"
             }
            },
            "type": "table"
           }
          ]
         },
         "layout": {
          "annotationdefaults": {
           "arrowcolor": "#2a3f5f",
           "arrowhead": 0,
           "arrowwidth": 1
          },
          "autotypenumbers": "strict",
          "coloraxis": {
           "colorbar": {
            "outlinewidth": 0,
            "ticks": ""
           }
          },
          "colorscale": {
           "diverging": [
            [
             0,
             "#8e0152"
            ],
            [
             0.1,
             "#c51b7d"
            ],
            [
             0.2,
             "#de77ae"
            ],
            [
             0.3,
             "#f1b6da"
            ],
            [
             0.4,
             "#fde0ef"
            ],
            [
             0.5,
             "#f7f7f7"
            ],
            [
             0.6,
             "#e6f5d0"
            ],
            [
             0.7,
             "#b8e186"
            ],
            [
             0.8,
             "#7fbc41"
            ],
            [
             0.9,
             "#4d9221"
            ],
            [
             1,
             "#276419"
            ]
           ],
           "sequential": [
            [
             0,
             "#0d0887"
            ],
            [
             0.1111111111111111,
             "#46039f"
            ],
            [
             0.2222222222222222,
             "#7201a8"
            ],
            [
             0.3333333333333333,
             "#9c179e"
            ],
            [
             0.4444444444444444,
             "#bd3786"
            ],
            [
             0.5555555555555556,
             "#d8576b"
            ],
            [
             0.6666666666666666,
             "#ed7953"
            ],
            [
             0.7777777777777778,
             "#fb9f3a"
            ],
            [
             0.8888888888888888,
             "#fdca26"
            ],
            [
             1,
             "#f0f921"
            ]
           ],
           "sequentialminus": [
            [
             0,
             "#0d0887"
            ],
            [
             0.1111111111111111,
             "#46039f"
            ],
            [
             0.2222222222222222,
             "#7201a8"
            ],
            [
             0.3333333333333333,
             "#9c179e"
            ],
            [
             0.4444444444444444,
             "#bd3786"
            ],
            [
             0.5555555555555556,
             "#d8576b"
            ],
            [
             0.6666666666666666,
             "#ed7953"
            ],
            [
             0.7777777777777778,
             "#fb9f3a"
            ],
            [
             0.8888888888888888,
             "#fdca26"
            ],
            [
             1,
             "#f0f921"
            ]
           ]
          },
          "colorway": [
           "#636efa",
           "#EF553B",
           "#00cc96",
           "#ab63fa",
           "#FFA15A",
           "#19d3f3",
           "#FF6692",
           "#B6E880",
           "#FF97FF",
           "#FECB52"
          ],
          "font": {
           "color": "#2a3f5f"
          },
          "geo": {
           "bgcolor": "white",
           "lakecolor": "white",
           "landcolor": "#E5ECF6",
           "showlakes": true,
           "showland": true,
           "subunitcolor": "white"
          },
          "hoverlabel": {
           "align": "left"
          },
          "hovermode": "closest",
          "mapbox": {
           "style": "light"
          },
          "paper_bgcolor": "white",
          "plot_bgcolor": "#E5ECF6",
          "polar": {
           "angularaxis": {
            "gridcolor": "white",
            "linecolor": "white",
            "ticks": ""
           },
           "bgcolor": "#E5ECF6",
           "radialaxis": {
            "gridcolor": "white",
            "linecolor": "white",
            "ticks": ""
           }
          },
          "scene": {
           "xaxis": {
            "backgroundcolor": "#E5ECF6",
            "gridcolor": "white",
            "gridwidth": 2,
            "linecolor": "white",
            "showbackground": true,
            "ticks": "",
            "zerolinecolor": "white"
           },
           "yaxis": {
            "backgroundcolor": "#E5ECF6",
            "gridcolor": "white",
            "gridwidth": 2,
            "linecolor": "white",
            "showbackground": true,
            "ticks": "",
            "zerolinecolor": "white"
           },
           "zaxis": {
            "backgroundcolor": "#E5ECF6",
            "gridcolor": "white",
            "gridwidth": 2,
            "linecolor": "white",
            "showbackground": true,
            "ticks": "",
            "zerolinecolor": "white"
           }
          },
          "shapedefaults": {
           "line": {
            "color": "#2a3f5f"
           }
          },
          "ternary": {
           "aaxis": {
            "gridcolor": "white",
            "linecolor": "white",
            "ticks": ""
           },
           "baxis": {
            "gridcolor": "white",
            "linecolor": "white",
            "ticks": ""
           },
           "bgcolor": "#E5ECF6",
           "caxis": {
            "gridcolor": "white",
            "linecolor": "white",
            "ticks": ""
           }
          },
          "title": {
           "x": 0.05
          },
          "xaxis": {
           "automargin": true,
           "gridcolor": "white",
           "linecolor": "white",
           "ticks": "",
           "title": {
            "standoff": 15
           },
           "zerolinecolor": "white",
           "zerolinewidth": 2
          },
          "yaxis": {
           "automargin": true,
           "gridcolor": "white",
           "linecolor": "white",
           "ticks": "",
           "title": {
            "standoff": 15
           },
           "zerolinecolor": "white",
           "zerolinewidth": 2
          }
         }
        },
        "title": {
         "text": "Sunburst Chart of Disease, BMI, and Blood Pressure Categories"
        }
       }
      }
     },
     "metadata": {},
     "output_type": "display_data"
    }
   ],
   "source": [
    "# Example data for Sunburst Chart\n",
    "sunburst_data = train_data.copy()\n",
    "sunburst_data['BMI_Category'] = pd.cut(train_data['BMI'], bins=[0, 18.5, 25, 30, 100], labels=['Underweight', 'Normal', 'Overweight', 'Obese'])\n",
    "sunburst_data['Blood_Pressure_Category'] = pd.cut(train_data['Systolic Blood Pressure'], bins=[0, 120, 130, 140, 200], labels=['Normal', 'Elevated', 'Hypertension Stage 1', 'Hypertension Stage 2'])\n",
    "\n",
    "fig = px.sunburst(sunburst_data, path=['Disease', 'BMI_Category', 'Blood_Pressure_Category'],\n",
    "                  values='BMI', color='Disease', color_continuous_scale='RdBu')\n",
    "fig.update_layout(title='Sunburst Chart of Disease, BMI, and Blood Pressure Categories')\n",
    "fig.show()"
   ]
  }
 ],
 "metadata": {
  "kernelspec": {
   "display_name": "Python 3",
   "language": "python",
   "name": "python3"
  },
  "language_info": {
   "codemirror_mode": {
    "name": "ipython",
    "version": 3
   },
   "file_extension": ".py",
   "mimetype": "text/x-python",
   "name": "python",
   "nbconvert_exporter": "python",
   "pygments_lexer": "ipython3",
   "version": "3.10.10"
  }
 },
 "nbformat": 4,
 "nbformat_minor": 2
}
